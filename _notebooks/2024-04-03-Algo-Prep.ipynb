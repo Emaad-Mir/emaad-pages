{
 "cells": [
  {
   "cell_type": "markdown",
   "metadata": {},
   "source": [
    "---\n",
    "title: Algorhythmic Experience Blog\n",
    "description: This blog details some of my experiences at the Algorythmic Event as well as some code blocks to illustrate what each group showed. \n",
    "toc: true\n",
    "layout: post\n",
    "type: hacks\n",
    "comments: true\n",
    "---"
   ]
  },
  {
   "cell_type": "markdown",
   "metadata": {},
   "source": [
    "# Actual Code for the Sorts"
   ]
  },
  {
   "cell_type": "code",
   "execution_count": 8,
   "metadata": {
    "vscode": {
     "languageId": "java"
    }
   },
   "outputs": [],
   "source": [
    "public class Plant implements Comparable<Plant> {\n",
    "    private String species;\n",
    "    private int leafCount;\n",
    "    private String shade;\n",
    "\n",
    "    public Plant(String species, int leafCount, String shade) {\n",
    "        this.species = species;\n",
    "        this.leafCount = leafCount;\n",
    "        this.shade = shade;\n",
    "    }\n",
    "\n",
    "    public String getSpecies() {\n",
    "        return species;\n",
    "    }\n",
    "\n",
    "    public int getLeafCount() {\n",
    "        return leafCount;\n",
    "    }\n",
    "\n",
    "    public String getShade() {\n",
    "        return shade;\n",
    "    }\n",
    "\n",
    "    @Override\n",
    "    public String toString() {\n",
    "        return String.format(\"{\\\"species\\\": \\\"%s\\\", \\\"leafCount\\\": %d, \\\"shade\\\": \\\"%s\\\"}\", species, leafCount, shade);\n",
    "    }\n",
    "\n",
    "    @Override\n",
    "    public int compareTo(Plant other) {\n",
    "        return Integer.compare(this.leafCount, other.leafCount);  // Default comparison by leaf count\n",
    "    }\n",
    "}\n"
   ]
  },
  {
   "cell_type": "markdown",
   "metadata": {},
   "source": [
    "## Bubble Sort"
   ]
  },
  {
   "cell_type": "code",
   "execution_count": 9,
   "metadata": {
    "vscode": {
     "languageId": "java"
    }
   },
   "outputs": [],
   "source": [
    "public class BubbleSort {\n",
    "    public static void sort(ArrayList<Plant> plants) {\n",
    "        int n = plants.size();\n",
    "        for (int i = 0; i < n - 1; i++) {\n",
    "            for (int j = 0; j < n - i - 1; j++) {\n",
    "                if (plants.get(j).compareTo(plants.get(j + 1)) > 0) {\n",
    "                    Collections.swap(plants, j, j + 1);\n",
    "                }\n",
    "            }\n",
    "        }\n",
    "    }\n",
    "}\n"
   ]
  },
  {
   "cell_type": "markdown",
   "metadata": {},
   "source": [
    "### Explanation\n",
    "\n",
    "The bubble sorting algorithm is an algorithm that compares two consecutive elements of a list. If the two elements (example numbers) are in the right order, nothing needs to be changed. If the numbers are not in the right order, however, they will then be swapped so that the smaller numbers can be \"bubbled\" to the top of the list.\n",
    "\n",
    "Bubble sort gets the job done of sorting the list; however, it does have an average time complexity of O(n^2), meaning that the number of operations performed will get larger and larger as the list in question gets larger and larger. Thus, even though bubble sort is one of the more simpler algorithms to understand, it may not be the best option when it comes to sorting.\n",
    "\n"
   ]
  },
  {
   "cell_type": "markdown",
   "metadata": {},
   "source": [
    "## Quick Sort"
   ]
  },
  {
   "cell_type": "code",
   "execution_count": 10,
   "metadata": {
    "vscode": {
     "languageId": "java"
    }
   },
   "outputs": [],
   "source": [
    "public class QuickSort {\n",
    "    public static void sort(ArrayList<Plant> plants) {\n",
    "        quickSort(plants, 0, plants.size() - 1);\n",
    "    }\n",
    "\n",
    "    private static void quickSort(ArrayList<Plant> plants, int low, int high) {\n",
    "        if (low < high) {\n",
    "            int pi = partition(plants, low, high);\n",
    "            quickSort(plants, low, pi - 1);\n",
    "            quickSort(plants, pi + 1, high);\n",
    "        }\n",
    "    }\n",
    "\n",
    "    private static int partition(ArrayList<Plant> plants, int low, int high) {\n",
    "        Plant pivot = plants.get(high);\n",
    "        int i = low - 1;\n",
    "        for (int j = low; j < high; j++) {\n",
    "            if (plants.get(j).compareTo(pivot) < 0) {\n",
    "                i++;\n",
    "                Collections.swap(plants, i, j);\n",
    "            }\n",
    "        }\n",
    "        Collections.swap(plants, i + 1, high);\n",
    "        return i + 1;\n",
    "    }\n",
    "}\n"
   ]
  },
  {
   "cell_type": "markdown",
   "metadata": {},
   "source": [
    "### Explanation\n",
    "\n",
    "Quick sort selects one element of a list as a pivot. The list is then rearranged so that all elements less than the pivot come before it, while all elements greater than the pivot come after it. This process guarantees that the pivot element is in its correct position in the sorted list. Quick sort then recursively applies the same logic to the list of elements before the pivot and the list of elements after the pivot until the entire list is sorted.\n",
    "\n",
    "Quick sort has an average time complexity of O(n log n), similar to merge sort. However, its worst-case performance is O(n^2), which occurs when the list is already nearly sorted or when the smallest or largest element is always chosen as the pivot. "
   ]
  },
  {
   "cell_type": "markdown",
   "metadata": {},
   "source": [
    "## Merge Sort"
   ]
  },
  {
   "cell_type": "code",
   "execution_count": 11,
   "metadata": {
    "vscode": {
     "languageId": "java"
    }
   },
   "outputs": [],
   "source": [
    "public class MergeSort {\n",
    "    public static void sort(ArrayList<Plant> plants) {\n",
    "        if (plants.size() > 1) {\n",
    "            ArrayList<Plant> left = new ArrayList<>(plants.subList(0, plants.size() / 2));\n",
    "            ArrayList<Plant> right = new ArrayList<>(plants.subList(plants.size() / 2, plants.size()));\n",
    "\n",
    "            sort(left);\n",
    "            sort(right);\n",
    "\n",
    "            merge(plants, left, right);\n",
    "        }\n",
    "    }\n",
    "\n",
    "    private static void merge(ArrayList<Plant> plants, ArrayList<Plant> left, ArrayList<Plant> right) {\n",
    "        int totalElements = left.size() + right.size();\n",
    "        int i, li, ri;\n",
    "        i = li = ri = 0;\n",
    "        while (i < totalElements) {\n",
    "            if ((li < left.size()) && (ri < right.size())) {\n",
    "                if (left.get(li).compareTo(right.get(ri)) < 0) {\n",
    "                    plants.set(i, left.get(li));\n",
    "                    i++;\n",
    "                    li++;\n",
    "                } else {\n",
    "                    plants.set(i, right.get(ri));\n",
    "                    i++;\n",
    "                    ri++;\n",
    "                }\n",
    "            } else {\n",
    "                if (li >= left.size()) {\n",
    "                    while (ri < right.size()) {\n",
    "                        plants.set(i, right.get(ri));\n",
    "                        i++;\n",
    "                        ri++;\n",
    "                    }\n",
    "                }\n",
    "                if (ri >= right.size()) {\n",
    "                    while (li < left.size()) {\n",
    "                        plants.set(i, left.get(li));\n",
    "                        i++;\n",
    "                        li++;\n",
    "                    }\n",
    "                }\n",
    "            }\n",
    "        }\n",
    "    }\n",
    "}\n"
   ]
  },
  {
   "cell_type": "markdown",
   "metadata": {},
   "source": [
    "### Explanation\n",
    "\n",
    "With the merge sorting algorithm, the algorithm takes one array and splits it in half. For each half of the array, the algorithm rearranges the array so that the elements are in the desired order. Once that has been done successfully, the algorithm merges the two arrays/lists back together so that the desired order is achieved for the entire array/list.\n",
    "\n",
    "Merge sort, just like bubble sort, is also another way of sorting a list back into the desired order. However, merge sort is better than bubble sort in terms of time complexity, with merge sort having an average time complexity of O(nlogn). This means that the amount of operations performed will not be as large as the input size increases for a merge sort algorithm as it would be for a bubble sorting algorithm."
   ]
  },
  {
   "cell_type": "markdown",
   "metadata": {},
   "source": [
    "## Insertion Sort"
   ]
  },
  {
   "cell_type": "code",
   "execution_count": 13,
   "metadata": {
    "vscode": {
     "languageId": "java"
    }
   },
   "outputs": [],
   "source": [
    "public class InsertionSort {\n",
    "    public static void sort(ArrayList<Plant> plants) {\n",
    "        for (int i = 1; i < plants.size(); i++) {\n",
    "            Plant key = plants.get(i);\n",
    "            int j = i - 1;\n",
    "            while (j >= 0 && plants.get(j).compareTo(key) > 0) {\n",
    "                plants.set(j + 1, plants.get(j));\n",
    "                j--;\n",
    "            }\n",
    "            plants.set(j + 1, key);\n",
    "        }\n",
    "    }\n",
    "}\n"
   ]
  },
  {
   "cell_type": "markdown",
   "metadata": {},
   "source": [
    "Insertion sort builds the final sorted list one item at a time. It removes one element per iteration and finds the location it belongs within the sorted part of the list, inserting it there. This process repeats until no unsorted elements remain.\n",
    "\n",
    "Even though insertion sort has an average and worst-case time complexity of O(n^2), making it less efficient for large lists, it has several advantages. It is adaptive, meaning that its efficiency increases if the list is already partially sorted, and it is stable, keeping identical elements in the same order as they appear in the input. "
   ]
  },
  {
   "cell_type": "markdown",
   "metadata": {},
   "source": [
    "## Selection Sort"
   ]
  },
  {
   "cell_type": "code",
   "execution_count": 12,
   "metadata": {
    "vscode": {
     "languageId": "java"
    }
   },
   "outputs": [],
   "source": [
    "public class SelectionSort {\n",
    "    public static void sort(ArrayList<Plant> plants) {\n",
    "        for (int i = 0; i < plants.size() - 1; i++) {\n",
    "            int minIndex = i;\n",
    "            for (int j = i + 1; j < plants.size(); j++) {\n",
    "                if (plants.get(j).compareTo(plants.get(minIndex)) < 0) {\n",
    "                    minIndex = j;\n",
    "                }\n",
    "            }\n",
    "            Collections.swap(plants, minIndex, i);\n",
    "        }\n",
    "    }\n",
    "}\n"
   ]
  },
  {
   "cell_type": "markdown",
   "metadata": {},
   "source": [
    "Selection sort divides the list into two parts: the sorted part at the start and the unsorted part at the rest of the list. Initially, the sorted part is empty, and the unsorted part contains all the elements. With each iteration, the algorithm selects the minimum (or maximum, depending on sorting order) element from the unsorted part and moves it to the end of the sorted part. This process is repeated until the unsorted part becomes empty, and the list is sorted.\n",
    "\n",
    "Selection sort has a time complexity of O(n^2), making it inefficient for large lists. The primary advantage of selection sort lies in its simplicity and the fact that it makes the minimum possible number of swaps: only one swap for each element in the list, which could be beneficial in scenarios where writing data is significantly more expensive than reading data. "
   ]
  },
  {
   "cell_type": "markdown",
   "metadata": {},
   "source": [
    "### Main Class for All Sorts"
   ]
  },
  {
   "cell_type": "code",
   "execution_count": 15,
   "metadata": {
    "vscode": {
     "languageId": "java"
    }
   },
   "outputs": [
    {
     "name": "stdout",
     "output_type": "stream",
     "text": [
      "Garden before Bubble Sort:\n",
      "{\"species\": \"Fern\", \"leafCount\": 50, \"shade\": \"Dark Green\"}\n",
      "{\"species\": \"Cactus\", \"leafCount\": 5, \"shade\": \"Light Green\"}\n",
      "{\"species\": \"Orchid\", \"leafCount\": 20, \"shade\": \"Violet\"}\n",
      "{\"species\": \"Maple\", \"leafCount\": 30, \"shade\": \"Red\"}\n",
      "{\"species\": \"Pine\", \"leafCount\": 70, \"shade\": \"Deep Green\"}\n",
      "Garden after Bubble Sort:\n",
      "{\"species\": \"Cactus\", \"leafCount\": 5, \"shade\": \"Light Green\"}\n",
      "{\"species\": \"Orchid\", \"leafCount\": 20, \"shade\": \"Violet\"}\n",
      "{\"species\": \"Maple\", \"leafCount\": 30, \"shade\": \"Red\"}\n",
      "{\"species\": \"Fern\", \"leafCount\": 50, \"shade\": \"Dark Green\"}\n",
      "{\"species\": \"Pine\", \"leafCount\": 70, \"shade\": \"Deep Green\"}\n",
      "\n",
      "Garden before Quick Sort:\n",
      "{\"species\": \"Fern\", \"leafCount\": 50, \"shade\": \"Dark Green\"}\n",
      "{\"species\": \"Cactus\", \"leafCount\": 5, \"shade\": \"Light Green\"}\n",
      "{\"species\": \"Orchid\", \"leafCount\": 20, \"shade\": \"Violet\"}\n",
      "{\"species\": \"Maple\", \"leafCount\": 30, \"shade\": \"Red\"}\n",
      "{\"species\": \"Pine\", \"leafCount\": 70, \"shade\": \"Deep Green\"}\n",
      "Garden after Quick Sort:\n",
      "{\"species\": \"Cactus\", \"leafCount\": 5, \"shade\": \"Light Green\"}\n",
      "{\"species\": \"Orchid\", \"leafCount\": 20, \"shade\": \"Violet\"}\n",
      "{\"species\": \"Maple\", \"leafCount\": 30, \"shade\": \"Red\"}\n",
      "{\"species\": \"Fern\", \"leafCount\": 50, \"shade\": \"Dark Green\"}\n",
      "{\"species\": \"Pine\", \"leafCount\": 70, \"shade\": \"Deep Green\"}\n",
      "\n",
      "Garden before Merge Sort:\n",
      "{\"species\": \"Fern\", \"leafCount\": 50, \"shade\": \"Dark Green\"}\n",
      "{\"species\": \"Cactus\", \"leafCount\": 5, \"shade\": \"Light Green\"}\n",
      "{\"species\": \"Orchid\", \"leafCount\": 20, \"shade\": \"Violet\"}\n",
      "{\"species\": \"Maple\", \"leafCount\": 30, \"shade\": \"Red\"}\n",
      "{\"species\": \"Pine\", \"leafCount\": 70, \"shade\": \"Deep Green\"}\n",
      "Garden after Merge Sort:\n",
      "{\"species\": \"Cactus\", \"leafCount\": 5, \"shade\": \"Light Green\"}\n",
      "{\"species\": \"Orchid\", \"leafCount\": 20, \"shade\": \"Violet\"}\n",
      "{\"species\": \"Maple\", \"leafCount\": 30, \"shade\": \"Red\"}\n",
      "{\"species\": \"Fern\", \"leafCount\": 50, \"shade\": \"Dark Green\"}\n",
      "{\"species\": \"Pine\", \"leafCount\": 70, \"shade\": \"Deep Green\"}\n",
      "\n",
      "Garden before Selection Sort:\n",
      "{\"species\": \"Fern\", \"leafCount\": 50, \"shade\": \"Dark Green\"}\n",
      "{\"species\": \"Cactus\", \"leafCount\": 5, \"shade\": \"Light Green\"}\n",
      "{\"species\": \"Orchid\", \"leafCount\": 20, \"shade\": \"Violet\"}\n",
      "{\"species\": \"Maple\", \"leafCount\": 30, \"shade\": \"Red\"}\n",
      "{\"species\": \"Pine\", \"leafCount\": 70, \"shade\": \"Deep Green\"}\n",
      "Garden after Selection Sort:\n",
      "{\"species\": \"Cactus\", \"leafCount\": 5, \"shade\": \"Light Green\"}\n",
      "{\"species\": \"Orchid\", \"leafCount\": 20, \"shade\": \"Violet\"}\n",
      "{\"species\": \"Maple\", \"leafCount\": 30, \"shade\": \"Red\"}\n",
      "{\"species\": \"Fern\", \"leafCount\": 50, \"shade\": \"Dark Green\"}\n",
      "{\"species\": \"Pine\", \"leafCount\": 70, \"shade\": \"Deep Green\"}\n",
      "\n",
      "Garden before Insertion Sort:\n",
      "{\"species\": \"Fern\", \"leafCount\": 50, \"shade\": \"Dark Green\"}\n",
      "{\"species\": \"Cactus\", \"leafCount\": 5, \"shade\": \"Light Green\"}\n",
      "{\"species\": \"Orchid\", \"leafCount\": 20, \"shade\": \"Violet\"}\n",
      "{\"species\": \"Maple\", \"leafCount\": 30, \"shade\": \"Red\"}\n",
      "{\"species\": \"Pine\", \"leafCount\": 70, \"shade\": \"Deep Green\"}\n",
      "Garden after Insertion Sort:\n",
      "{\"species\": \"Cactus\", \"leafCount\": 5, \"shade\": \"Light Green\"}\n",
      "{\"species\": \"Orchid\", \"leafCount\": 20, \"shade\": \"Violet\"}\n",
      "{\"species\": \"Maple\", \"leafCount\": 30, \"shade\": \"Red\"}\n",
      "{\"species\": \"Fern\", \"leafCount\": 50, \"shade\": \"Dark Green\"}\n",
      "{\"species\": \"Pine\", \"leafCount\": 70, \"shade\": \"Deep Green\"}\n"
     ]
    }
   ],
   "source": [
    "import java.util.ArrayList;\n",
    "\n",
    "public class Main {\n",
    "    public static void main(String[] args) {\n",
    "        ArrayList<Plant> garden = new ArrayList<>();\n",
    "        garden.add(new Plant(\"Fern\", 50, \"Dark Green\"));\n",
    "        garden.add(new Plant(\"Cactus\", 5, \"Light Green\"));\n",
    "        garden.add(new Plant(\"Orchid\", 20, \"Violet\"));\n",
    "        garden.add(new Plant(\"Maple\", 30, \"Red\"));\n",
    "        garden.add(new Plant(\"Pine\", 70, \"Deep Green\"));\n",
    "\n",
    "        // Testing Bubble Sort\n",
    "        ArrayList<Plant> gardenForBubbleSort = new ArrayList<>(garden);\n",
    "        System.out.println(\"Garden before Bubble Sort:\");\n",
    "        gardenForBubbleSort.forEach(System.out::println);\n",
    "        BubbleSort.sort(gardenForBubbleSort);\n",
    "        System.out.println(\"Garden after Bubble Sort:\");\n",
    "        gardenForBubbleSort.forEach(System.out::println);\n",
    "\n",
    "        // Testing Quick Sort\n",
    "        ArrayList<Plant> gardenForQuickSort = new ArrayList<>(garden);\n",
    "        System.out.println(\"\\nGarden before Quick Sort:\");\n",
    "        gardenForQuickSort.forEach(System.out::println);\n",
    "        QuickSort.sort(gardenForQuickSort);\n",
    "        System.out.println(\"Garden after Quick Sort:\");\n",
    "        gardenForQuickSort.forEach(System.out::println);\n",
    "\n",
    "        // Testing Merge Sort\n",
    "        ArrayList<Plant> gardenForMergeSort = new ArrayList<>(garden);\n",
    "        System.out.println(\"\\nGarden before Merge Sort:\");\n",
    "        gardenForMergeSort.forEach(System.out::println);\n",
    "        MergeSort.sort(gardenForMergeSort);\n",
    "        System.out.println(\"Garden after Merge Sort:\");\n",
    "        gardenForMergeSort.forEach(System.out::println);\n",
    "\n",
    "        // Testing Selection Sort\n",
    "        ArrayList<Plant> gardenForSelectionSort = new ArrayList<>(garden);\n",
    "        System.out.println(\"\\nGarden before Selection Sort:\");\n",
    "        gardenForSelectionSort.forEach(System.out::println);\n",
    "        SelectionSort.sort(gardenForSelectionSort);\n",
    "        System.out.println(\"Garden after Selection Sort:\");\n",
    "        gardenForSelectionSort.forEach(System.out::println);\n",
    "\n",
    "        // Testing Insertion Sort\n",
    "        ArrayList<Plant> gardenForInsertionSort = new ArrayList<>(garden);\n",
    "        System.out.println(\"\\nGarden before Insertion Sort:\");\n",
    "        gardenForInsertionSort.forEach(System.out::println);\n",
    "        InsertionSort.sort(gardenForInsertionSort);\n",
    "        System.out.println(\"Garden after Insertion Sort:\");\n",
    "        gardenForInsertionSort.forEach(System.out::println);\n",
    "    }\n",
    "}\n",
    "Main.main(null);\n"
   ]
  },
  {
   "cell_type": "markdown",
   "metadata": {},
   "source": [
    "# LinkedList for Merge Sort"
   ]
  },
  {
   "cell_type": "code",
   "execution_count": 5,
   "metadata": {
    "vscode": {
     "languageId": "java"
    }
   },
   "outputs": [],
   "source": [
    "public class Plant implements Comparable<Plant> {\n",
    "    private String species;\n",
    "    private int leafCount;\n",
    "    private String shade;\n",
    "\n",
    "    public Plant(String species, int leafCount, String shade) {\n",
    "        this.species = species;\n",
    "        this.leafCount = leafCount;\n",
    "        this.shade = shade;\n",
    "    }\n",
    "\n",
    "    public String getSpecies() {\n",
    "        return species;\n",
    "    }\n",
    "\n",
    "    public int getLeafCount() {\n",
    "        return leafCount;\n",
    "    }\n",
    "\n",
    "    public String getShade() {\n",
    "        return shade;\n",
    "    }\n",
    "\n",
    "    @Override\n",
    "    public String toString() {\n",
    "        return String.format(\"{\\\"species\\\": \\\"%s\\\", \\\"leafCount\\\": %d, \\\"shade\\\": \\\"%s\\\"}\", species, leafCount, shade);\n",
    "    }\n",
    "\n",
    "    @Override\n",
    "    public int compareTo(Plant other) {\n",
    "        return Integer.compare(this.leafCount, other.leafCount);  // Default comparison by leaf count\n",
    "    }\n",
    "}\n"
   ]
  },
  {
   "cell_type": "code",
   "execution_count": 6,
   "metadata": {
    "vscode": {
     "languageId": "java"
    }
   },
   "outputs": [],
   "source": [
    "public class Garden {\n",
    "    private class Node {\n",
    "        Plant data;\n",
    "        Node next;\n",
    "\n",
    "        Node(Plant data) {\n",
    "            this.data = data;\n",
    "        }\n",
    "    }\n",
    "\n",
    "    private Node head;\n",
    "\n",
    "    public void add(Plant data) {\n",
    "        Node newNode = new Node(data);\n",
    "        if (head == null) {\n",
    "            head = newNode;\n",
    "        } else {\n",
    "            Node current = head;\n",
    "            while (current.next != null) {\n",
    "                current = current.next;\n",
    "            }\n",
    "            current.next = newNode;\n",
    "        }\n",
    "    }\n",
    "\n",
    "    public void print() {\n",
    "        Node current = head;\n",
    "        while (current != null) {\n",
    "            System.out.println(current.data);\n",
    "            current = current.next;\n",
    "        }\n",
    "    }\n",
    "\n",
    "    public void mergeSort() {\n",
    "        head = mergeSortRec(head);\n",
    "    }\n",
    "\n",
    "    private Node mergeSortRec(Node head) {\n",
    "        if (head == null || head.next == null) {\n",
    "            return head;\n",
    "        }\n",
    "\n",
    "        Node middle = getMiddle(head);\n",
    "        Node nextOfMiddle = middle.next;\n",
    "        middle.next = null;\n",
    "\n",
    "        Node left = mergeSortRec(head);\n",
    "        Node right = mergeSortRec(nextOfMiddle);\n",
    "\n",
    "        return merge(left, right);\n",
    "    }\n",
    "\n",
    "    private Node getMiddle(Node head) {\n",
    "        if (head == null) {\n",
    "            return null;\n",
    "        }\n",
    "\n",
    "        Node slow = head, fast = head;\n",
    "        while (fast.next != null && fast.next.next != null) {\n",
    "            slow = slow.next;\n",
    "            fast = fast.next.next;\n",
    "        }\n",
    "        return slow;\n",
    "    }\n",
    "\n",
    "    private Node merge(Node left, Node right) {\n",
    "        Node result = null;\n",
    "        if (left == null)\n",
    "            return right;\n",
    "        if (right == null)\n",
    "            return left;\n",
    "\n",
    "        if (left.data.compareTo(right.data) <= 0) {\n",
    "            result = left;\n",
    "            result.next = merge(left.next, right);\n",
    "        } else {\n",
    "            result = right;\n",
    "            result.next = merge(left, right.next);\n",
    "        }\n",
    "        return result;\n",
    "    }\n",
    "}\n"
   ]
  },
  {
   "cell_type": "code",
   "execution_count": 7,
   "metadata": {
    "vscode": {
     "languageId": "java"
    }
   },
   "outputs": [
    {
     "name": "stdout",
     "output_type": "stream",
     "text": [
      "Garden before sorting:\n",
      "{\"species\": \"Fern\", \"leafCount\": 50, \"shade\": \"Dark Green\"}\n",
      "{\"species\": \"Cactus\", \"leafCount\": 5, \"shade\": \"Light Green\"}\n",
      "{\"species\": \"Orchid\", \"leafCount\": 20, \"shade\": \"Violet\"}\n",
      "Garden after sorting by leaf count:\n",
      "{\"species\": \"Cactus\", \"leafCount\": 5, \"shade\": \"Light Green\"}\n",
      "{\"species\": \"Orchid\", \"leafCount\": 20, \"shade\": \"Violet\"}\n",
      "{\"species\": \"Fern\", \"leafCount\": 50, \"shade\": \"Dark Green\"}\n"
     ]
    }
   ],
   "source": [
    "public class Main {\n",
    "    public static void main(String[] args) {\n",
    "        Garden garden = new Garden();\n",
    "        garden.add(new Plant(\"Fern\", 50, \"Dark Green\"));\n",
    "        garden.add(new Plant(\"Cactus\", 5, \"Light Green\"));\n",
    "        garden.add(new Plant(\"Orchid\", 20, \"Violet\"));\n",
    "\n",
    "        System.out.println(\"Garden before sorting:\");\n",
    "        garden.print();\n",
    "\n",
    "        garden.mergeSort();\n",
    "\n",
    "        System.out.println(\"Garden after sorting by leaf count:\");\n",
    "        garden.print();\n",
    "    }\n",
    "}\n",
    "\n",
    "Main.main(null);"
   ]
  },
  {
   "cell_type": "markdown",
   "metadata": {},
   "source": [
    "# My Experience at the Algorythmic Event\n",
    "\n",
    "Today (April 3), my group along with four other groups got to perform each of our sorting algorithms in front of the judges as well as people who happened to be interested in watching us perform. I enjoyed watching every single performance, as I was amazed at all of the groups were able to get creative with showing off their sorting algorithms in their own unique way. For example, the insertion sort algorithm performance was pretty cool in that it used rap lyrics as well as a beach theme in order to convey the mechanisms of insertion sort. Also, the bubble sort performance was funny to me and many others who attended the event since the theme was centered around a dating show and a person wanting to figure out who their best match is. \n",
    "\n",
    "In terms of our own performance, I thought that everyone (including me) did an amazing job. I feel like all of us were punctual whenever we were practicing, whether it was at lunch, during class, or outside of school. Ultimately, all of those practice sessions played of in the end, as we were able to perform on the stage without any issues and earned two 10/10s and 3 9/10s from the judges, which is quite amazing. We ended up in 3rd place for total scores, which we all agreed was a pretty solid ranking. \n",
    "\n",
    "We ended up posting our practice sessions on our Instagram account, which actually ended up earning a lot of followers and views (and most importantly, likes!)\n",
    "\n",
    "Here are some captures of our practice sessions!\n",
    "\n",
    "![]({{site.baseurl}}/images/IMG_0721.jpg)\n",
    "![]({{site.baseurl}}/images/IMG_0722.jpg)\n",
    "![]({{site.baseurl}}/images/betterimage.png)\n",
    "\n",
    "\n",
    "Captures from the event \n",
    "\n",
    "![]({{site.baseurl}}/images/dating.png)\n",
    "![]({{site.baseurl}}/images/dating2.png)\n",
    "Dating show ^ (ft. Rachit aka Rachelina)\n",
    "\n",
    "![]({{site.baseurl}}/images/performance.png)\n",
    "![]({{site.baseurl}}/images/practice2.png)"
   ]
  }
 ],
 "metadata": {
  "kernelspec": {
   "display_name": "Java",
   "language": "java",
   "name": "java"
  },
  "language_info": {
   "codemirror_mode": "java",
   "file_extension": ".jshell",
   "mimetype": "text/x-java-source",
   "name": "Java",
   "pygments_lexer": "java",
   "version": "21+35-LTS-2513"
  }
 },
 "nbformat": 4,
 "nbformat_minor": 2
}
